{
 "cells": [
  {
   "cell_type": "code",
   "execution_count": 1,
   "source": [
    "import pandas as pd\r\n",
    "import numpy as np\r\n",
    "\r\n",
    "import matplotlib.pyplot as plt\r\n",
    "import seaborn as sns\r\n",
    "\r\n",
    "from pyarrow import csv\r\n",
    "import pyarrow as pa\r\n",
    "import pyarrow.parquet as pq\r\n",
    "\r\n",
    "import warnings\r\n",
    "warnings.filterwarnings(action='ignore')"
   ],
   "outputs": [],
   "metadata": {}
  },
  {
   "cell_type": "code",
   "execution_count": 2,
   "source": [
    "test = pd.read_parquet('../Data/test_pre_2.parquet', engine='pyarrow')"
   ],
   "outputs": [],
   "metadata": {}
  },
  {
   "cell_type": "code",
   "execution_count": 3,
   "source": [
    "train = pd.read_parquet('../Data/train_pre_2.parquet', engine='pyarrow')"
   ],
   "outputs": [],
   "metadata": {}
  },
  {
   "cell_type": "code",
   "execution_count": 4,
   "source": [
    "train_and_test = [train, test]"
   ],
   "outputs": [],
   "metadata": {}
  },
  {
   "cell_type": "code",
   "execution_count": 5,
   "source": [
    "test.info()"
   ],
   "outputs": [
    {
     "output_type": "stream",
     "name": "stdout",
     "text": [
      "<class 'pandas.core.frame.DataFrame'>\n",
      "RangeIndex: 929615 entries, 0 to 929614\n",
      "Data columns (total 23 columns):\n",
      " #   Column                 Non-Null Count   Dtype         \n",
      "---  ------                 --------------   -----         \n",
      " 0   fecha_dato             929615 non-null  datetime64[ns]\n",
      " 1   ind_empleado           929615 non-null  object        \n",
      " 2   pais_residencia        929615 non-null  int8          \n",
      " 3   sexo                   929615 non-null  object        \n",
      " 4   age                    929615 non-null  int64         \n",
      " 5   fecha_alta             929615 non-null  datetime64[ns]\n",
      " 6   ind_nuevo              929615 non-null  int64         \n",
      " 7   antiguedad             929615 non-null  object        \n",
      " 8   indrel                 929615 non-null  int64         \n",
      " 9   ult_fec_cli_1t         1683 non-null    object        \n",
      " 10  indrel_1mes            929592 non-null  float64       \n",
      " 11  tiprel_1mes            929615 non-null  object        \n",
      " 12  indresi                929615 non-null  object        \n",
      " 13  indext                 929615 non-null  object        \n",
      " 14  conyuemp               929615 non-null  object        \n",
      " 15  canal_entrada          929615 non-null  object        \n",
      " 16  indfall                929615 non-null  object        \n",
      " 17  tipodom                929615 non-null  int64         \n",
      " 18  cod_prov               925619 non-null  float64       \n",
      " 19  nomprov                929615 non-null  object        \n",
      " 20  ind_actividad_cliente  929615 non-null  int64         \n",
      " 21  renta                  929615 non-null  object        \n",
      " 22  segmento               929615 non-null  object        \n",
      "dtypes: datetime64[ns](2), float64(2), int64(5), int8(1), object(13)\n",
      "memory usage: 156.9+ MB\n"
     ]
    }
   ],
   "metadata": {}
  },
  {
   "cell_type": "code",
   "execution_count": 6,
   "source": [
    "train.info()"
   ],
   "outputs": [
    {
     "output_type": "stream",
     "name": "stdout",
     "text": [
      "<class 'pandas.core.frame.DataFrame'>\n",
      "RangeIndex: 13647309 entries, 0 to 13647308\n",
      "Data columns (total 23 columns):\n",
      " #   Column                 Dtype         \n",
      "---  ------                 -----         \n",
      " 0   fecha_dato             datetime64[ns]\n",
      " 1   ind_empleado           object        \n",
      " 2   pais_residencia        int8          \n",
      " 3   sexo                   object        \n",
      " 4   age                    object        \n",
      " 5   fecha_alta             datetime64[ns]\n",
      " 6   ind_nuevo              float64       \n",
      " 7   antiguedad             object        \n",
      " 8   indrel                 float64       \n",
      " 9   ult_fec_cli_1t         object        \n",
      " 10  indrel_1mes            object        \n",
      " 11  tiprel_1mes            object        \n",
      " 12  indresi                object        \n",
      " 13  indext                 object        \n",
      " 14  conyuemp               object        \n",
      " 15  canal_entrada          object        \n",
      " 16  indfall                object        \n",
      " 17  tipodom                float64       \n",
      " 18  cod_prov               float64       \n",
      " 19  nomprov                object        \n",
      " 20  ind_actividad_cliente  float64       \n",
      " 21  renta                  float64       \n",
      " 22  segmento               object        \n",
      "dtypes: datetime64[ns](2), float64(6), int8(1), object(14)\n",
      "memory usage: 2.2+ GB\n"
     ]
    }
   ],
   "metadata": {}
  },
  {
   "cell_type": "markdown",
   "source": [
    "- --\r\n",
    "# indrel\r\n",
    "\r\n",
    "1. train, test indrel features 의 type 불일치 > int8 로 변경\r\n",
    "2. train only Nan > 최빈값인 1로 대체"
   ],
   "metadata": {}
  },
  {
   "cell_type": "code",
   "execution_count": 7,
   "source": [
    "train['indrel'].unique()"
   ],
   "outputs": [
    {
     "output_type": "execute_result",
     "data": {
      "text/plain": [
       "array([ 1., nan, 99.])"
      ]
     },
     "metadata": {},
     "execution_count": 7
    }
   ],
   "metadata": {}
  },
  {
   "cell_type": "code",
   "execution_count": 8,
   "source": [
    "test['indrel'].unique()"
   ],
   "outputs": [
    {
     "output_type": "execute_result",
     "data": {
      "text/plain": [
       "array([ 1, 99], dtype=int64)"
      ]
     },
     "metadata": {},
     "execution_count": 8
    }
   ],
   "metadata": {}
  },
  {
   "cell_type": "code",
   "execution_count": 9,
   "source": [
    "train['indrel'].isnull().sum()"
   ],
   "outputs": [
    {
     "output_type": "execute_result",
     "data": {
      "text/plain": [
       "27734"
      ]
     },
     "metadata": {},
     "execution_count": 9
    }
   ],
   "metadata": {}
  },
  {
   "cell_type": "code",
   "execution_count": 10,
   "source": [
    "test['indrel'].isnull().sum()"
   ],
   "outputs": [
    {
     "output_type": "execute_result",
     "data": {
      "text/plain": [
       "0"
      ]
     },
     "metadata": {},
     "execution_count": 10
    }
   ],
   "metadata": {}
  },
  {
   "cell_type": "code",
   "execution_count": 11,
   "source": [
    "train['indrel'].value_counts()"
   ],
   "outputs": [
    {
     "output_type": "execute_result",
     "data": {
      "text/plain": [
       "1.0     13594782\n",
       "99.0       24793\n",
       "Name: indrel, dtype: int64"
      ]
     },
     "metadata": {},
     "execution_count": 11
    }
   ],
   "metadata": {}
  },
  {
   "cell_type": "code",
   "execution_count": 12,
   "source": [
    "train['indrel'] = train['indrel'].fillna(3) "
   ],
   "outputs": [],
   "metadata": {}
  },
  {
   "cell_type": "code",
   "execution_count": 13,
   "source": [
    "train['indrel'] = train['indrel'].replace(3,1) # 3으로 대체할려고 했는데 test 셋에 Nan 값이 없다. train 측면에서 효율적이지 않아 3 을 최빈값인 1로 바꿔주겠다."
   ],
   "outputs": [],
   "metadata": {}
  },
  {
   "cell_type": "code",
   "execution_count": 14,
   "source": [
    "train['indrel'] = train['indrel'].astype(np.int8) # train['indrel'] 은 float64 타입 test['indrel'] 은 int64 타입불일치 타입을 int8 로 통일"
   ],
   "outputs": [],
   "metadata": {}
  },
  {
   "cell_type": "code",
   "execution_count": 15,
   "source": [
    "test['indrel'] = test['indrel'].astype(np.int8)"
   ],
   "outputs": [],
   "metadata": {}
  },
  {
   "cell_type": "markdown",
   "source": [
    "# ult_fec_cli_1t\r\n",
    "\r\n",
    "train, test 에 전반적으로 NUll 값이 많다. train 셋의 경우 null 값의 비율이 80% \r\n",
    "일단 드랍"
   ],
   "metadata": {}
  },
  {
   "cell_type": "code",
   "execution_count": 16,
   "source": [
    "train['ult_fec_cli_1t'].isnull().sum()"
   ],
   "outputs": [
    {
     "output_type": "execute_result",
     "data": {
      "text/plain": [
       "13622516"
      ]
     },
     "metadata": {},
     "execution_count": 16
    }
   ],
   "metadata": {}
  },
  {
   "cell_type": "code",
   "execution_count": 17,
   "source": [
    "test['ult_fec_cli_1t'].isnull().sum()"
   ],
   "outputs": [
    {
     "output_type": "execute_result",
     "data": {
      "text/plain": [
       "927932"
      ]
     },
     "metadata": {},
     "execution_count": 17
    }
   ],
   "metadata": {}
  },
  {
   "cell_type": "code",
   "execution_count": 18,
   "source": [
    "features_drop = ['ult_fec_cli_1t']\r\n",
    "\r\n",
    "train = train.drop(features_drop, axis = 1)\r\n",
    "test = test.drop(features_drop, axis = 1)"
   ],
   "outputs": [],
   "metadata": {}
  },
  {
   "cell_type": "code",
   "execution_count": 21,
   "source": [
    "test.info()"
   ],
   "outputs": [
    {
     "output_type": "stream",
     "name": "stdout",
     "text": [
      "<class 'pandas.core.frame.DataFrame'>\n",
      "RangeIndex: 929615 entries, 0 to 929614\n",
      "Data columns (total 22 columns):\n",
      " #   Column                 Non-Null Count   Dtype         \n",
      "---  ------                 --------------   -----         \n",
      " 0   fecha_dato             929615 non-null  datetime64[ns]\n",
      " 1   ind_empleado           929615 non-null  object        \n",
      " 2   pais_residencia        929615 non-null  int8          \n",
      " 3   sexo                   929615 non-null  object        \n",
      " 4   age                    929615 non-null  int64         \n",
      " 5   fecha_alta             929615 non-null  datetime64[ns]\n",
      " 6   ind_nuevo              929615 non-null  int64         \n",
      " 7   antiguedad             929615 non-null  object        \n",
      " 8   indrel                 929615 non-null  int8          \n",
      " 9   indrel_1mes            929592 non-null  float64       \n",
      " 10  tiprel_1mes            929615 non-null  object        \n",
      " 11  indresi                929615 non-null  object        \n",
      " 12  indext                 929615 non-null  object        \n",
      " 13  conyuemp               929615 non-null  object        \n",
      " 14  canal_entrada          929615 non-null  object        \n",
      " 15  indfall                929615 non-null  object        \n",
      " 16  tipodom                929615 non-null  int64         \n",
      " 17  cod_prov               925619 non-null  float64       \n",
      " 18  nomprov                929615 non-null  object        \n",
      " 19  ind_actividad_cliente  929615 non-null  int64         \n",
      " 20  renta                  929615 non-null  object        \n",
      " 21  segmento               929615 non-null  object        \n",
      "dtypes: datetime64[ns](2), float64(2), int64(4), int8(2), object(12)\n",
      "memory usage: 143.6+ MB\n"
     ]
    }
   ],
   "metadata": {}
  },
  {
   "cell_type": "code",
   "execution_count": 22,
   "source": [
    "test.to_parquet('../Data/test_pre_3.parquet', engine='pyarrow', index = False)\r\n",
    "train.to_parquet('../Data/train_pre_3.parquet',engine='pyarrow', index = False)"
   ],
   "outputs": [],
   "metadata": {}
  },
  {
   "cell_type": "code",
   "execution_count": null,
   "source": [],
   "outputs": [],
   "metadata": {}
  }
 ],
 "metadata": {
  "orig_nbformat": 4,
  "language_info": {
   "name": "python",
   "version": "3.9.6",
   "mimetype": "text/x-python",
   "codemirror_mode": {
    "name": "ipython",
    "version": 3
   },
   "pygments_lexer": "ipython3",
   "nbconvert_exporter": "python",
   "file_extension": ".py"
  },
  "kernelspec": {
   "name": "python3",
   "display_name": "Python 3.9.6 64-bit"
  },
  "interpreter": {
   "hash": "71b59b5ba49ad06bb2a011e750699e3983d230921f30bf7f37eb3a01ae69aa26"
  }
 },
 "nbformat": 4,
 "nbformat_minor": 2
}