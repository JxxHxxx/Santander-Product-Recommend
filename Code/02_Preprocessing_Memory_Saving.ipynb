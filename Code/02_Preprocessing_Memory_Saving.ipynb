{
 "cells": [
  {
   "cell_type": "code",
   "execution_count": 1,
   "source": [
    "import pandas as pd\r\n",
    "import numpy as np\r\n",
    "\r\n",
    "import matplotlib.pyplot as plt\r\n",
    "import seaborn as sns\r\n",
    "\r\n",
    "from pyarrow import csv\r\n",
    "import pyarrow as pa\r\n",
    "import pyarrow.parquet as pq\r\n",
    "\r\n",
    "import warnings\r\n",
    "warnings.filterwarnings(action='ignore')"
   ],
   "outputs": [],
   "metadata": {}
  },
  {
   "cell_type": "code",
   "execution_count": 2,
   "source": [
    "test = pd.read_parquet('../Data/test_pre_1.parquet', engine='pyarrow')"
   ],
   "outputs": [],
   "metadata": {}
  },
  {
   "cell_type": "code",
   "execution_count": 3,
   "source": [
    "train = pd.read_parquet('../Data/train_pre_1.parquet', engine='pyarrow')"
   ],
   "outputs": [],
   "metadata": {}
  },
  {
   "cell_type": "code",
   "execution_count": 4,
   "source": [
    "train_and_test = [train, test]"
   ],
   "outputs": [],
   "metadata": {}
  },
  {
   "cell_type": "code",
   "execution_count": 5,
   "source": [
    "test.info()"
   ],
   "outputs": [
    {
     "output_type": "stream",
     "name": "stdout",
     "text": [
      "<class 'pandas.core.frame.DataFrame'>\n",
      "RangeIndex: 929615 entries, 0 to 929614\n",
      "Data columns (total 23 columns):\n",
      " #   Column                 Non-Null Count   Dtype         \n",
      "---  ------                 --------------   -----         \n",
      " 0   fecha_dato             929615 non-null  datetime64[ns]\n",
      " 1   ind_empleado           929615 non-null  object        \n",
      " 2   pais_residencia        929615 non-null  int8          \n",
      " 3   sexo                   929615 non-null  object        \n",
      " 4   age                    929615 non-null  int64         \n",
      " 5   fecha_alta             929615 non-null  datetime64[ns]\n",
      " 6   ind_nuevo              929615 non-null  int64         \n",
      " 7   antiguedad             929615 non-null  int64         \n",
      " 8   indrel                 929615 non-null  int64         \n",
      " 9   ult_fec_cli_1t         1683 non-null    object        \n",
      " 10  indrel_1mes            929592 non-null  float64       \n",
      " 11  tiprel_1mes            929615 non-null  object        \n",
      " 12  indresi                929615 non-null  object        \n",
      " 13  indext                 929615 non-null  object        \n",
      " 14  conyuemp               929615 non-null  object        \n",
      " 15  canal_entrada          929615 non-null  object        \n",
      " 16  indfall                929615 non-null  object        \n",
      " 17  tipodom                929615 non-null  int64         \n",
      " 18  cod_prov               925619 non-null  float64       \n",
      " 19  nomprov                929615 non-null  object        \n",
      " 20  ind_actividad_cliente  929615 non-null  int64         \n",
      " 21  renta                  929615 non-null  object        \n",
      " 22  segmento               929615 non-null  object        \n",
      "dtypes: datetime64[ns](2), float64(2), int64(6), int8(1), object(12)\n",
      "memory usage: 156.9+ MB\n"
     ]
    }
   ],
   "metadata": {}
  },
  {
   "cell_type": "code",
   "execution_count": 6,
   "source": [
    "train.info()"
   ],
   "outputs": [
    {
     "output_type": "stream",
     "name": "stdout",
     "text": [
      "<class 'pandas.core.frame.DataFrame'>\n",
      "RangeIndex: 13647309 entries, 0 to 13647308\n",
      "Data columns (total 23 columns):\n",
      " #   Column                 Dtype         \n",
      "---  ------                 -----         \n",
      " 0   fecha_dato             datetime64[ns]\n",
      " 1   ind_empleado           object        \n",
      " 2   pais_residencia        int8          \n",
      " 3   sexo                   object        \n",
      " 4   age                    object        \n",
      " 5   fecha_alta             datetime64[ns]\n",
      " 6   ind_nuevo              float64       \n",
      " 7   antiguedad             object        \n",
      " 8   indrel                 float64       \n",
      " 9   ult_fec_cli_1t         object        \n",
      " 10  indrel_1mes            object        \n",
      " 11  tiprel_1mes            object        \n",
      " 12  indresi                object        \n",
      " 13  indext                 object        \n",
      " 14  conyuemp               object        \n",
      " 15  canal_entrada          object        \n",
      " 16  indfall                object        \n",
      " 17  tipodom                float64       \n",
      " 18  cod_prov               float64       \n",
      " 19  nomprov                object        \n",
      " 20  ind_actividad_cliente  float64       \n",
      " 21  renta                  float64       \n",
      " 22  segmento               object        \n",
      "dtypes: datetime64[ns](2), float64(6), int8(1), object(14)\n",
      "memory usage: 2.2+ GB\n"
     ]
    }
   ],
   "metadata": {}
  },
  {
   "cell_type": "markdown",
   "source": [
    "# 결측치 체크"
   ],
   "metadata": {}
  },
  {
   "cell_type": "code",
   "execution_count": 7,
   "source": [
    "train['sexo'].unique()"
   ],
   "outputs": [
    {
     "output_type": "execute_result",
     "data": {
      "text/plain": [
       "array(['H', 'V', ''], dtype=object)"
      ]
     },
     "metadata": {},
     "execution_count": 7
    }
   ],
   "metadata": {}
  },
  {
   "cell_type": "code",
   "execution_count": 8,
   "source": [
    "train.isnull().sum() # ult_fec_cli_1t 와 renta 는 결측지가 지나치게 많다."
   ],
   "outputs": [
    {
     "output_type": "execute_result",
     "data": {
      "text/plain": [
       "fecha_dato                      0\n",
       "ind_empleado                    0\n",
       "pais_residencia                 0\n",
       "sexo                            0\n",
       "age                             0\n",
       "fecha_alta                  27734\n",
       "ind_nuevo                   27734\n",
       "antiguedad                      0\n",
       "indrel                      27734\n",
       "ult_fec_cli_1t           13622516\n",
       "indrel_1mes                     0\n",
       "tiprel_1mes                     0\n",
       "indresi                         0\n",
       "indext                          0\n",
       "conyuemp                        0\n",
       "canal_entrada                   0\n",
       "indfall                         0\n",
       "tipodom                     27735\n",
       "cod_prov                    93591\n",
       "nomprov                         0\n",
       "ind_actividad_cliente       27734\n",
       "renta                     2794375\n",
       "segmento                        0\n",
       "dtype: int64"
      ]
     },
     "metadata": {},
     "execution_count": 8
    }
   ],
   "metadata": {}
  },
  {
   "cell_type": "markdown",
   "source": [
    "# WhiteSpace 처리\r\n",
    "\r\n",
    "info 에서 type 이 object인 col들은 뭘까? 이런 고민을 했었는데 문제가 대략적으로 해결됐다. <br> 공백(whitespace), 이 공백을 가진 놈들이 있는데 꼭 처리를 해주고 가야된다. \r\n",
    "결측지를 대체하거나 value 들을 조정할 때 아주 골머리를 썪는다.\r\n",
    "\r\n",
    "<br>type 이 object 인 애들을 모와 strip 을 실행하면 된다."
   ],
   "metadata": {}
  },
  {
   "cell_type": "code",
   "execution_count": 9,
   "source": [
    "# antiguedad\r\n",
    "\r\n",
    "train['antiguedad'].unique() # 잘 보면 '6' 이 아니라 '     6' 이다. 우리는 오른쪽의 빈공간을 처리해야한다."
   ],
   "outputs": [
    {
     "output_type": "execute_result",
     "data": {
      "text/plain": [
       "array(['      6', '     35', '     34', '     NA', '     33', '     31',\n",
       "       '     21', '     16', '     27', '      9', '     22', '     13',\n",
       "       '     29', '      8', '     11', '     10', '     28', '     24',\n",
       "       '      7', '     25', '     14', '     26', '     12', '     23',\n",
       "       '      1', '     18', '      4', '      3', '     17', '     32',\n",
       "       '     30', '     20', '     15', '     19', '    157', '     36',\n",
       "       '      5', '     40', '     38', '     37', '     39', '      0',\n",
       "       '      2', '     47', '     44', '     42', '     46', '     45',\n",
       "       '     43', '     41', '     57', '     48', '     52', '     49',\n",
       "       '     50', '     56', '     58', '     51', '     55', '     54',\n",
       "       '     53', '     59', '     62', '     61', '     60', '     63',\n",
       "       '    139', '    165', '    118', '    164', '    142', '     94',\n",
       "       '    159', '    143', '    105', '    151', '    162', '    137',\n",
       "       '    150', '    128', '    122', '    156', '    119', '    160',\n",
       "       '     79', '     95', '    132', '    161', '     98', '    127',\n",
       "       '     72', '    155', '    108', '    163', '    102', '    148',\n",
       "       '    115', '    146', '    107', '     81', '    216', '    135',\n",
       "       '     92', '    121', '    198', '    134', '     93', '    140',\n",
       "       '    110', '    120', '    147', '    116', '     64', '     77',\n",
       "       '     85', '     99', '     78', '    100', '    113', '    154',\n",
       "       '    166', '    133', '    124', '    141', '     66', '    117',\n",
       "       '     86', '    193', '     80', '    144', '     87', '    126',\n",
       "       '    158', '    101', '    235', '     88', '    145', '    103',\n",
       "       '    149', '    109', '    131', '     97', '     68', '     84',\n",
       "       '    232', '    125', '    177', '    112', '     96', '     69',\n",
       "       '    171', '    167', '    104', '     76', '     82', '    152',\n",
       "       '     70', '    138', '    169', '     65', '    129', '    190',\n",
       "       '    114', '    111', '    176', '    153', '     89', '    136',\n",
       "       '     83', '    123', '    187', '    106', '    231', '    189',\n",
       "       '    217', '    172', '    199', '    173', '    174', '    209',\n",
       "       '    180', '    178', '     91', '    168', '    130', '    225',\n",
       "       '     67', '     73', '    183', '     74', '    206', '     71',\n",
       "       '    179', '    184', '    192', '     90', '    194', '    182',\n",
       "       '    188', '    213', '    185', '    195', '    186', '    207',\n",
       "       '    208', '     75', '    175', '    201', '    203', '    212',\n",
       "       '    215', '    170', '    228', '    214', '    202', '    196',\n",
       "       '    181', '    211', '    191', '    205', '    200', '    227',\n",
       "       '    218', '    219', '    226', '    224', '    210', '    242',\n",
       "       '    223', '    237', '    204', '    233', '    220', '    222',\n",
       "       '    241', '    197', '    221', '    229', '    234', '    240',\n",
       "       '    243', '    230', '    238', '    246', '    236', '    244',\n",
       "       '    239', '    245', '-999999', '    247', '    248', '    249',\n",
       "       '    250', '    251', '    252', '    253', '    254', '    255',\n",
       "       '    256'], dtype=object)"
      ]
     },
     "metadata": {},
     "execution_count": 9
    }
   ],
   "metadata": {}
  },
  {
   "cell_type": "code",
   "execution_count": 10,
   "source": [
    "train['antiguedad'] = [x.strip() for x in train['antiguedad']]"
   ],
   "outputs": [],
   "metadata": {}
  },
  {
   "cell_type": "markdown",
   "source": [
    "- --\r\n"
   ],
   "metadata": {}
  },
  {
   "cell_type": "code",
   "execution_count": null,
   "source": [
    "#train['antiguedad'] = train['antiguedad'].astype(str)"
   ],
   "outputs": [],
   "metadata": {}
  },
  {
   "cell_type": "code",
   "execution_count": 11,
   "source": [
    "train['antiguedad'] = train['antiguedad'].fillna('0') # NA 대체\r\n",
    "train['antiguedad'] = train['antiguedad'].replace('NA', '0')"
   ],
   "outputs": [],
   "metadata": {}
  },
  {
   "cell_type": "code",
   "execution_count": 15,
   "source": [
    "train['antiguedad'] = train['antiguedad'].replace('-999999', '0') # outlier 대체\r\n",
    "test['antiguedad'] = test['antiguedad'].replace('-999999', '0')"
   ],
   "outputs": [],
   "metadata": {}
  },
  {
   "cell_type": "code",
   "execution_count": 13,
   "source": [
    "test['antiguedad'] = [str(x) for x in test['antiguedad']]"
   ],
   "outputs": [],
   "metadata": {}
  },
  {
   "cell_type": "code",
   "execution_count": 17,
   "source": [
    "train['antiguedad'].unique()"
   ],
   "outputs": [
    {
     "output_type": "execute_result",
     "data": {
      "text/plain": [
       "array(['6', '35', '34', '0', '33', '31', '21', '16', '27', '9', '22',\n",
       "       '13', '29', '8', '11', '10', '28', '24', '7', '25', '14', '26',\n",
       "       '12', '23', '1', '18', '4', '3', '17', '32', '30', '20', '15',\n",
       "       '19', '157', '36', '5', '40', '38', '37', '39', '2', '47', '44',\n",
       "       '42', '46', '45', '43', '41', '57', '48', '52', '49', '50', '56',\n",
       "       '58', '51', '55', '54', '53', '59', '62', '61', '60', '63', '139',\n",
       "       '165', '118', '164', '142', '94', '159', '143', '105', '151',\n",
       "       '162', '137', '150', '128', '122', '156', '119', '160', '79', '95',\n",
       "       '132', '161', '98', '127', '72', '155', '108', '163', '102', '148',\n",
       "       '115', '146', '107', '81', '216', '135', '92', '121', '198', '134',\n",
       "       '93', '140', '110', '120', '147', '116', '64', '77', '85', '99',\n",
       "       '78', '100', '113', '154', '166', '133', '124', '141', '66', '117',\n",
       "       '86', '193', '80', '144', '87', '126', '158', '101', '235', '88',\n",
       "       '145', '103', '149', '109', '131', '97', '68', '84', '232', '125',\n",
       "       '177', '112', '96', '69', '171', '167', '104', '76', '82', '152',\n",
       "       '70', '138', '169', '65', '129', '190', '114', '111', '176', '153',\n",
       "       '89', '136', '83', '123', '187', '106', '231', '189', '217', '172',\n",
       "       '199', '173', '174', '209', '180', '178', '91', '168', '130',\n",
       "       '225', '67', '73', '183', '74', '206', '71', '179', '184', '192',\n",
       "       '90', '194', '182', '188', '213', '185', '195', '186', '207',\n",
       "       '208', '75', '175', '201', '203', '212', '215', '170', '228',\n",
       "       '214', '202', '196', '181', '211', '191', '205', '200', '227',\n",
       "       '218', '219', '226', '224', '210', '242', '223', '237', '204',\n",
       "       '233', '220', '222', '241', '197', '221', '229', '234', '240',\n",
       "       '243', '230', '238', '246', '236', '244', '239', '245', '247',\n",
       "       '248', '249', '250', '251', '252', '253', '254', '255', '256'],\n",
       "      dtype=object)"
      ]
     },
     "metadata": {},
     "execution_count": 17
    }
   ],
   "metadata": {}
  },
  {
   "cell_type": "code",
   "execution_count": 18,
   "source": [
    "test.to_parquet('../Data/test_pre_2.parquet', engine='pyarrow', index = False)"
   ],
   "outputs": [],
   "metadata": {}
  },
  {
   "cell_type": "code",
   "execution_count": 19,
   "source": [
    "train.to_parquet('../Data/train_pre_2.parquet',engine='pyarrow', index = False)"
   ],
   "outputs": [],
   "metadata": {}
  },
  {
   "cell_type": "code",
   "execution_count": null,
   "source": [],
   "outputs": [],
   "metadata": {}
  }
 ],
 "metadata": {
  "orig_nbformat": 4,
  "language_info": {
   "name": "python",
   "version": "3.9.6",
   "mimetype": "text/x-python",
   "codemirror_mode": {
    "name": "ipython",
    "version": 3
   },
   "pygments_lexer": "ipython3",
   "nbconvert_exporter": "python",
   "file_extension": ".py"
  },
  "kernelspec": {
   "name": "python3",
   "display_name": "Python 3.9.6 64-bit"
  },
  "interpreter": {
   "hash": "71b59b5ba49ad06bb2a011e750699e3983d230921f30bf7f37eb3a01ae69aa26"
  }
 },
 "nbformat": 4,
 "nbformat_minor": 2
}