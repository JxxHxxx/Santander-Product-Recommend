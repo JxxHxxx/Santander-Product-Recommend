{
 "cells": [
  {
   "cell_type": "markdown",
   "source": [
    "<!-- filename = 'train_ver2.csv'\r\n",
    "\r\n",
    "chunksize = 10 ** 3\r\n",
    "\r\n",
    "for chunk in pd.read_csv(filename, chunksize=chunksize):\r\n",
    "    print(chunk) -->"
   ],
   "metadata": {}
  },
  {
   "cell_type": "code",
   "execution_count": 2,
   "source": [
    "import pandas as pd\r\n",
    "import numpy as np\r\n",
    "\r\n",
    "import matplotlib.pyplot as plt\r\n",
    "import seaborn as sns\r\n",
    "\r\n",
    "from pyarrow import csv\r\n",
    "import pyarrow as pa\r\n",
    "import pyarrow.parquet as pq\r\n",
    "\r\n",
    "import warnings\r\n",
    "warnings.filterwarnings(action='ignore')\r\n"
   ],
   "outputs": [],
   "metadata": {}
  },
  {
   "cell_type": "code",
   "execution_count": null,
   "source": [
    "test = pd.read_parquet('test_pq.parquet', engine='pyarrow')"
   ],
   "outputs": [],
   "metadata": {}
  },
  {
   "cell_type": "code",
   "execution_count": 4,
   "source": [
    "test.columns"
   ],
   "outputs": [
    {
     "output_type": "execute_result",
     "data": {
      "text/plain": [
       "Index(['fecha_dato', 'ncodpers', 'ind_empleado', 'pais_residencia', 'sexo',\n",
       "       'age', 'fecha_alta', 'ind_nuevo', 'antiguedad', 'indrel',\n",
       "       'ult_fec_cli_1t', 'indrel_1mes', 'tiprel_1mes', 'indresi', 'indext',\n",
       "       'conyuemp', 'canal_entrada', 'indfall', 'tipodom', 'cod_prov',\n",
       "       'nomprov', 'ind_actividad_cliente', 'renta', 'segmento'],\n",
       "      dtype='object')"
      ]
     },
     "metadata": {},
     "execution_count": 4
    }
   ],
   "metadata": {}
  },
  {
   "cell_type": "code",
   "execution_count": 5,
   "source": [
    "train = pd.read_parquet('train_pq.parquet', engine='pyarrow', columns=['fecha_dato', 'ncodpers', 'ind_empleado', 'pais_residencia', 'sexo',\r\n",
    "       'age', 'fecha_alta', 'ind_nuevo', 'antiguedad', 'indrel',\r\n",
    "       'ult_fec_cli_1t', 'indrel_1mes', 'tiprel_1mes', 'indresi', 'indext',\r\n",
    "       'conyuemp', 'canal_entrada', 'indfall', 'tipodom', 'cod_prov',\r\n",
    "       'nomprov', 'ind_actividad_cliente', 'renta', 'segmento'])"
   ],
   "outputs": [],
   "metadata": {}
  },
  {
   "cell_type": "code",
   "execution_count": 6,
   "source": [
    "train_and_test = [train, test]"
   ],
   "outputs": [],
   "metadata": {}
  },
  {
   "cell_type": "code",
   "execution_count": 7,
   "source": [
    "train.info()"
   ],
   "outputs": [
    {
     "output_type": "stream",
     "name": "stdout",
     "text": [
      "<class 'pandas.core.frame.DataFrame'>\n",
      "RangeIndex: 13647309 entries, 0 to 13647308\n",
      "Data columns (total 24 columns):\n",
      " #   Column                 Dtype  \n",
      "---  ------                 -----  \n",
      " 0   fecha_dato             object \n",
      " 1   ncodpers               int64  \n",
      " 2   ind_empleado           object \n",
      " 3   pais_residencia        object \n",
      " 4   sexo                   object \n",
      " 5   age                    object \n",
      " 6   fecha_alta             object \n",
      " 7   ind_nuevo              float64\n",
      " 8   antiguedad             object \n",
      " 9   indrel                 float64\n",
      " 10  ult_fec_cli_1t         object \n",
      " 11  indrel_1mes            object \n",
      " 12  tiprel_1mes            object \n",
      " 13  indresi                object \n",
      " 14  indext                 object \n",
      " 15  conyuemp               object \n",
      " 16  canal_entrada          object \n",
      " 17  indfall                object \n",
      " 18  tipodom                float64\n",
      " 19  cod_prov               float64\n",
      " 20  nomprov                object \n",
      " 21  ind_actividad_cliente  float64\n",
      " 22  renta                  float64\n",
      " 23  segmento               object \n",
      "dtypes: float64(6), int64(1), object(17)\n",
      "memory usage: 2.4+ GB\n"
     ]
    }
   ],
   "metadata": {}
  },
  {
   "cell_type": "code",
   "execution_count": null,
   "source": [
    "test.info()"
   ],
   "outputs": [
    {
     "output_type": "stream",
     "name": "stdout",
     "text": [
      "<class 'pandas.core.frame.DataFrame'>\n",
      "RangeIndex: 929615 entries, 0 to 929614\n",
      "Data columns (total 24 columns):\n",
      " #   Column                 Non-Null Count   Dtype  \n",
      "---  ------                 --------------   -----  \n",
      " 0   fecha_dato             929615 non-null  object \n",
      " 1   ncodpers               929615 non-null  int64  \n",
      " 2   ind_empleado           929615 non-null  object \n",
      " 3   pais_residencia        929615 non-null  object \n",
      " 4   sexo                   929615 non-null  object \n",
      " 5   age                    929615 non-null  int64  \n",
      " 6   fecha_alta             929615 non-null  object \n",
      " 7   ind_nuevo              929615 non-null  int64  \n",
      " 8   antiguedad             929615 non-null  int64  \n",
      " 9   indrel                 929615 non-null  int64  \n",
      " 10  ult_fec_cli_1t         1683 non-null    object \n",
      " 11  indrel_1mes            929592 non-null  float64\n",
      " 12  tiprel_1mes            929615 non-null  object \n",
      " 13  indresi                929615 non-null  object \n",
      " 14  indext                 929615 non-null  object \n",
      " 15  conyuemp               929615 non-null  object \n",
      " 16  canal_entrada          929615 non-null  object \n",
      " 17  indfall                929615 non-null  object \n",
      " 18  tipodom                929615 non-null  int64  \n",
      " 19  cod_prov               925619 non-null  float64\n",
      " 20  nomprov                929615 non-null  object \n",
      " 21  ind_actividad_cliente  929615 non-null  int64  \n",
      " 22  renta                  929615 non-null  object \n",
      " 23  segmento               929615 non-null  object \n",
      "dtypes: float64(2), int64(7), object(15)\n",
      "memory usage: 170.2+ MB\n"
     ]
    }
   ],
   "metadata": {}
  },
  {
   "cell_type": "code",
   "execution_count": null,
   "source": [
    "print(train.shape, test.shape)"
   ],
   "outputs": [
    {
     "output_type": "stream",
     "name": "stdout",
     "text": [
      "(13647309, 48) (929615, 24)\n"
     ]
    }
   ],
   "metadata": {}
  },
  {
   "cell_type": "markdown",
   "source": [
    "- --\r\n",
    "# Preprocessing"
   ],
   "metadata": {}
  },
  {
   "cell_type": "code",
   "execution_count": 4,
   "source": [
    "# dato, alta\r\n",
    "\r\n",
    "for dataset in train_and_test:\r\n",
    "    dataset[\"fecha_dato\"] = pd.to_datetime(dataset[\"fecha_dato\"], format=\"%Y-%m-%d\")\r\n",
    "    dataset['fecha_alta'] = pd.to_datetime(dataset['fecha_alta'], format=\"%Y-%m-%d\")"
   ],
   "outputs": [],
   "metadata": {}
  },
  {
   "cell_type": "code",
   "execution_count": 5,
   "source": [
    "train['fecha_alta'].unique()"
   ],
   "outputs": [
    {
     "output_type": "execute_result",
     "data": {
      "text/plain": [
       "array(['2015-01-12T00:00:00.000000000', '2012-08-10T00:00:00.000000000',\n",
       "                                 'NaT', ...,\n",
       "       '2016-05-25T00:00:00.000000000', '2016-05-01T00:00:00.000000000',\n",
       "       '2016-05-15T00:00:00.000000000'], dtype='datetime64[ns]')"
      ]
     },
     "metadata": {},
     "execution_count": 5
    }
   ],
   "metadata": {}
  },
  {
   "cell_type": "markdown",
   "source": [
    "- --"
   ],
   "metadata": {}
  },
  {
   "cell_type": "code",
   "execution_count": 6,
   "source": [
    "# ncodpers\r\n",
    "\r\n",
    "train = train.drop('ncodpers', axis=1)\r\n",
    "test = test.drop('ncodpers', axis = 1)"
   ],
   "outputs": [],
   "metadata": {}
  },
  {
   "cell_type": "markdown",
   "source": [
    "- --"
   ],
   "metadata": {}
  },
  {
   "cell_type": "code",
   "execution_count": 7,
   "source": [
    "# ind_empleado\r\n",
    "\r\n",
    "train['ind_empleado'] = train['ind_empleado'].replace('','P')"
   ],
   "outputs": [],
   "metadata": {}
  },
  {
   "cell_type": "code",
   "execution_count": 8,
   "source": [
    "train['ind_empleado'].unique()"
   ],
   "outputs": [
    {
     "output_type": "execute_result",
     "data": {
      "text/plain": [
       "array(['N', 'P', 'A', 'B', 'F', 'S'], dtype=object)"
      ]
     },
     "metadata": {},
     "execution_count": 8
    }
   ],
   "metadata": {}
  },
  {
   "cell_type": "markdown",
   "source": [
    "- --"
   ],
   "metadata": {}
  },
  {
   "cell_type": "code",
   "execution_count": 9,
   "source": [
    "# pais_residencia memory saving\r\n",
    "pais = train['pais_residencia'].unique()\r\n",
    "pais"
   ],
   "outputs": [
    {
     "output_type": "execute_result",
     "data": {
      "text/plain": [
       "array(['ES', '', 'CA', 'CH', 'CL', 'IE', 'AT', 'NL', 'FR', 'GB', 'DE',\n",
       "       'DO', 'BE', 'AR', 'VE', 'US', 'MX', 'BR', 'IT', 'EC', 'PE', 'CO',\n",
       "       'HN', 'FI', 'SE', 'AL', 'PT', 'MZ', 'CN', 'TW', 'PL', 'IN', 'CR',\n",
       "       'NI', 'HK', 'AD', 'CZ', 'AE', 'MA', 'GR', 'PR', 'RO', 'IL', 'RU',\n",
       "       'GT', 'GA', 'NO', 'SN', 'MR', 'UA', 'BG', 'PY', 'EE', 'SV', 'ET',\n",
       "       'CM', 'SA', 'CI', 'QA', 'LU', 'PA', 'BA', 'BO', 'AU', 'BY', 'KE',\n",
       "       'SG', 'HR', 'MD', 'SK', 'TR', 'AO', 'CU', 'GQ', 'EG', 'ZA', 'DK',\n",
       "       'UY', 'GE', 'TH', 'DZ', 'LB', 'JP', 'NG', 'PK', 'TN', 'TG', 'KR',\n",
       "       'GH', 'RS', 'VN', 'PH', 'KW', 'NZ', 'MM', 'KH', 'GI', 'SL', 'GN',\n",
       "       'GW', 'OM', 'CG', 'LV', 'LT', 'ML', 'MK', 'HU', 'IS', 'LY', 'CF',\n",
       "       'GM', 'KZ', 'CD', 'BZ', 'ZW', 'DJ', 'JM', 'BM', 'MT'], dtype=object)"
      ]
     },
     "metadata": {},
     "execution_count": 9
    }
   ],
   "metadata": {}
  },
  {
   "cell_type": "code",
   "execution_count": 10,
   "source": [
    "train['pais_residencia'] = train['pais_residencia'].replace('','PP')\r\n",
    "train['pais_residencia'].unique()"
   ],
   "outputs": [
    {
     "output_type": "execute_result",
     "data": {
      "text/plain": [
       "array(['ES', 'PP', 'CA', 'CH', 'CL', 'IE', 'AT', 'NL', 'FR', 'GB', 'DE',\n",
       "       'DO', 'BE', 'AR', 'VE', 'US', 'MX', 'BR', 'IT', 'EC', 'PE', 'CO',\n",
       "       'HN', 'FI', 'SE', 'AL', 'PT', 'MZ', 'CN', 'TW', 'PL', 'IN', 'CR',\n",
       "       'NI', 'HK', 'AD', 'CZ', 'AE', 'MA', 'GR', 'PR', 'RO', 'IL', 'RU',\n",
       "       'GT', 'GA', 'NO', 'SN', 'MR', 'UA', 'BG', 'PY', 'EE', 'SV', 'ET',\n",
       "       'CM', 'SA', 'CI', 'QA', 'LU', 'PA', 'BA', 'BO', 'AU', 'BY', 'KE',\n",
       "       'SG', 'HR', 'MD', 'SK', 'TR', 'AO', 'CU', 'GQ', 'EG', 'ZA', 'DK',\n",
       "       'UY', 'GE', 'TH', 'DZ', 'LB', 'JP', 'NG', 'PK', 'TN', 'TG', 'KR',\n",
       "       'GH', 'RS', 'VN', 'PH', 'KW', 'NZ', 'MM', 'KH', 'GI', 'SL', 'GN',\n",
       "       'GW', 'OM', 'CG', 'LV', 'LT', 'ML', 'MK', 'HU', 'IS', 'LY', 'CF',\n",
       "       'GM', 'KZ', 'CD', 'BZ', 'ZW', 'DJ', 'JM', 'BM', 'MT'], dtype=object)"
      ]
     },
     "metadata": {},
     "execution_count": 10
    }
   ],
   "metadata": {}
  },
  {
   "cell_type": "code",
   "execution_count": 11,
   "source": [
    "pais_dict = {pais[i] : i for i in range(len(pais))}\r\n",
    "pais_dict['PP'] = pais_dict['']\r\n",
    "del pais_dict['']\r\n",
    "pais_dict"
   ],
   "outputs": [
    {
     "output_type": "execute_result",
     "data": {
      "text/plain": [
       "{'ES': 0,\n",
       " 'CA': 2,\n",
       " 'CH': 3,\n",
       " 'CL': 4,\n",
       " 'IE': 5,\n",
       " 'AT': 6,\n",
       " 'NL': 7,\n",
       " 'FR': 8,\n",
       " 'GB': 9,\n",
       " 'DE': 10,\n",
       " 'DO': 11,\n",
       " 'BE': 12,\n",
       " 'AR': 13,\n",
       " 'VE': 14,\n",
       " 'US': 15,\n",
       " 'MX': 16,\n",
       " 'BR': 17,\n",
       " 'IT': 18,\n",
       " 'EC': 19,\n",
       " 'PE': 20,\n",
       " 'CO': 21,\n",
       " 'HN': 22,\n",
       " 'FI': 23,\n",
       " 'SE': 24,\n",
       " 'AL': 25,\n",
       " 'PT': 26,\n",
       " 'MZ': 27,\n",
       " 'CN': 28,\n",
       " 'TW': 29,\n",
       " 'PL': 30,\n",
       " 'IN': 31,\n",
       " 'CR': 32,\n",
       " 'NI': 33,\n",
       " 'HK': 34,\n",
       " 'AD': 35,\n",
       " 'CZ': 36,\n",
       " 'AE': 37,\n",
       " 'MA': 38,\n",
       " 'GR': 39,\n",
       " 'PR': 40,\n",
       " 'RO': 41,\n",
       " 'IL': 42,\n",
       " 'RU': 43,\n",
       " 'GT': 44,\n",
       " 'GA': 45,\n",
       " 'NO': 46,\n",
       " 'SN': 47,\n",
       " 'MR': 48,\n",
       " 'UA': 49,\n",
       " 'BG': 50,\n",
       " 'PY': 51,\n",
       " 'EE': 52,\n",
       " 'SV': 53,\n",
       " 'ET': 54,\n",
       " 'CM': 55,\n",
       " 'SA': 56,\n",
       " 'CI': 57,\n",
       " 'QA': 58,\n",
       " 'LU': 59,\n",
       " 'PA': 60,\n",
       " 'BA': 61,\n",
       " 'BO': 62,\n",
       " 'AU': 63,\n",
       " 'BY': 64,\n",
       " 'KE': 65,\n",
       " 'SG': 66,\n",
       " 'HR': 67,\n",
       " 'MD': 68,\n",
       " 'SK': 69,\n",
       " 'TR': 70,\n",
       " 'AO': 71,\n",
       " 'CU': 72,\n",
       " 'GQ': 73,\n",
       " 'EG': 74,\n",
       " 'ZA': 75,\n",
       " 'DK': 76,\n",
       " 'UY': 77,\n",
       " 'GE': 78,\n",
       " 'TH': 79,\n",
       " 'DZ': 80,\n",
       " 'LB': 81,\n",
       " 'JP': 82,\n",
       " 'NG': 83,\n",
       " 'PK': 84,\n",
       " 'TN': 85,\n",
       " 'TG': 86,\n",
       " 'KR': 87,\n",
       " 'GH': 88,\n",
       " 'RS': 89,\n",
       " 'VN': 90,\n",
       " 'PH': 91,\n",
       " 'KW': 92,\n",
       " 'NZ': 93,\n",
       " 'MM': 94,\n",
       " 'KH': 95,\n",
       " 'GI': 96,\n",
       " 'SL': 97,\n",
       " 'GN': 98,\n",
       " 'GW': 99,\n",
       " 'OM': 100,\n",
       " 'CG': 101,\n",
       " 'LV': 102,\n",
       " 'LT': 103,\n",
       " 'ML': 104,\n",
       " 'MK': 105,\n",
       " 'HU': 106,\n",
       " 'IS': 107,\n",
       " 'LY': 108,\n",
       " 'CF': 109,\n",
       " 'GM': 110,\n",
       " 'KZ': 111,\n",
       " 'CD': 112,\n",
       " 'BZ': 113,\n",
       " 'ZW': 114,\n",
       " 'DJ': 115,\n",
       " 'JM': 116,\n",
       " 'BM': 117,\n",
       " 'MT': 118,\n",
       " 'PP': 1}"
      ]
     },
     "metadata": {},
     "execution_count": 11
    }
   ],
   "metadata": {}
  },
  {
   "cell_type": "code",
   "execution_count": 12,
   "source": [
    "train['pais_residencia'] = train['pais_residencia'].map(lambda x : pais_dict[x]).astype(np.int8)\r\n",
    "test['pais_residencia'] = test['pais_residencia'].map(lambda x : pais_dict[x]).astype(np.int8)"
   ],
   "outputs": [],
   "metadata": {}
  },
  {
   "cell_type": "code",
   "execution_count": 13,
   "source": [
    "train['pais_residencia'].unique()"
   ],
   "outputs": [
    {
     "output_type": "execute_result",
     "data": {
      "text/plain": [
       "array([  0,   1,   2,   3,   4,   5,   6,   7,   8,   9,  10,  11,  12,\n",
       "        13,  14,  15,  16,  17,  18,  19,  20,  21,  22,  23,  24,  25,\n",
       "        26,  27,  28,  29,  30,  31,  32,  33,  34,  35,  36,  37,  38,\n",
       "        39,  40,  41,  42,  43,  44,  45,  46,  47,  48,  49,  50,  51,\n",
       "        52,  53,  54,  55,  56,  57,  58,  59,  60,  61,  62,  63,  64,\n",
       "        65,  66,  67,  68,  69,  70,  71,  72,  73,  74,  75,  76,  77,\n",
       "        78,  79,  80,  81,  82,  83,  84,  85,  86,  87,  88,  89,  90,\n",
       "        91,  92,  93,  94,  95,  96,  97,  98,  99, 100, 101, 102, 103,\n",
       "       104, 105, 106, 107, 108, 109, 110, 111, 112, 113, 114, 115, 116,\n",
       "       117, 118], dtype=int8)"
      ]
     },
     "metadata": {},
     "execution_count": 13
    }
   ],
   "metadata": {}
  },
  {
   "cell_type": "markdown",
   "source": [
    "- --"
   ],
   "metadata": {}
  },
  {
   "cell_type": "code",
   "execution_count": 15,
   "source": [
    "test.to_parquet('../Data/test_pre_1.parquet', engine='pyarrow', index = False)\r\n",
    "train.to_parquet('../Data/train_pre_2.parquet',engine='pyarrow', index = False)"
   ],
   "outputs": [],
   "metadata": {}
  }
 ],
 "metadata": {
  "orig_nbformat": 4,
  "language_info": {
   "name": "python",
   "version": "3.9.6",
   "mimetype": "text/x-python",
   "codemirror_mode": {
    "name": "ipython",
    "version": 3
   },
   "pygments_lexer": "ipython3",
   "nbconvert_exporter": "python",
   "file_extension": ".py"
  },
  "kernelspec": {
   "name": "python3",
   "display_name": "Python 3.9.6 64-bit"
  },
  "interpreter": {
   "hash": "71b59b5ba49ad06bb2a011e750699e3983d230921f30bf7f37eb3a01ae69aa26"
  }
 },
 "nbformat": 4,
 "nbformat_minor": 2
}