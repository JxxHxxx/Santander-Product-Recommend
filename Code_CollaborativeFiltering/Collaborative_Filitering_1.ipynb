{
 "cells": [
  {
   "cell_type": "code",
   "execution_count": null,
   "source": [
    "import numpy as np # linear algebra\r\n",
    "import pandas as pd # data processing, CSV file I/O (e.g. pd.read_csv)\r\n",
    "from sklearn.metrics import roc_auc_score\r\n",
    "from sklearn.linear_model import LogisticRegression\r\n",
    "from collections import defaultdict\r\n",
    "\r\n",
    "usecols = ['ncodpers', 'ind_ahor_fin_ult1', 'ind_aval_fin_ult1', 'ind_cco_fin_ult1',\r\n",
    "       'ind_cder_fin_ult1', 'ind_cno_fin_ult1', 'ind_ctju_fin_ult1',\r\n",
    "       'ind_ctma_fin_ult1', 'ind_ctop_fin_ult1', 'ind_ctpp_fin_ult1',\r\n",
    "       'ind_deco_fin_ult1', 'ind_deme_fin_ult1', 'ind_dela_fin_ult1',\r\n",
    "       'ind_ecue_fin_ult1', 'ind_fond_fin_ult1', 'ind_hip_fin_ult1',\r\n",
    "       'ind_plan_fin_ult1', 'ind_pres_fin_ult1', 'ind_reca_fin_ult1',\r\n",
    "       'ind_tjcr_fin_ult1', 'ind_valo_fin_ult1', 'ind_viv_fin_ult1',\r\n",
    "       'ind_nomina_ult1', 'ind_nom_pens_ult1', 'ind_recibo_ult1']\r\n",
    "       \r\n",
    "df_train = pd.read_csv('train_ver2.csv', usecols=usecols, nrows =500000)\r\n",
    "sample = pd.read_csv('train_ver2.csv', usecols = 'ncodpers', nrows = 100000)"
   ],
   "outputs": [],
   "metadata": {}
  },
  {
   "cell_type": "code",
   "execution_count": null,
   "source": [
    "df_train = df_train.drop_duplicates(['ncodpers'], keep='last')\r\n",
    "\r\n",
    "df_train.fillna(0, inplace=True)\r\n",
    "\r\n",
    "models = {}\r\n",
    "model_preds = {}\r\n",
    "id_preds = defaultdict(list)\r\n",
    "ids = df_train['ncodpers'].values\r\n",
    "for c in df_train.columns:\r\n",
    "    if c != 'ncodpers': # c 는 피쳐들\r\n",
    "        print(c)\r\n",
    "        y_train = df_train[c] # 피쳐\r\n",
    "        x_train = df_train.drop([c, 'ncodpers'], 1)\r\n",
    "        \r\n",
    "        clf = LogisticRegression() \r\n",
    "        clf.fit(x_train, y_train) \r\n",
    "        p_train = clf.predict_proba(x_train)[:,1] # 성능평가\r\n",
    "        \r\n",
    "        models[c] = clf\r\n",
    "        model_preds[c] = p_train\r\n",
    "        for id, p in zip(ids, p_train):\r\n",
    "            id_preds[id].append(p)\r\n",
    "            \r\n",
    "        print(roc_auc_score(y_train, p_train))"
   ],
   "outputs": [],
   "metadata": {}
  },
  {
   "cell_type": "code",
   "execution_count": null,
   "source": [
    "already_active = {} # 이미 고객이 보유한거\r\n",
    "for row in df_train.values:\r\n",
    "    row = list(row)\r\n",
    "    id = row.pop(0)\r\n",
    "    active = [c[0] for c in zip(df_train.columns[1:], row) if c[1] > 0]\r\n",
    "    already_active[id] = active"
   ],
   "outputs": [],
   "metadata": {}
  },
  {
   "cell_type": "code",
   "execution_count": null,
   "source": [
    "train_preds = {}\r\n",
    "for id, p in id_preds.items():\r\n",
    "    # Here be dragons\r\n",
    "    preds = [i[0] for i in sorted([i for i in zip(df_train.columns[1:], p) if i[0] not in already_active[id]], key=lambda i:i [1], reverse=True)[:7]]\r\n",
    "    train_preds[id] = preds"
   ],
   "outputs": [],
   "metadata": {}
  },
  {
   "cell_type": "code",
   "execution_count": null,
   "source": [
    "test_preds = []\r\n",
    "for row in sample.values:\r\n",
    "    id = row[0]\r\n",
    "    p = train_preds[id]\r\n",
    "    test_preds.append(' '.join(p))\r\n",
    "\r\n",
    "sample['added_products'] = test_preds\r\n",
    "sample.to_csv('collab_sub.csv', index=False)"
   ],
   "outputs": [],
   "metadata": {}
  }
 ],
 "metadata": {
  "orig_nbformat": 4,
  "language_info": {
   "name": "python"
  }
 },
 "nbformat": 4,
 "nbformat_minor": 2
}